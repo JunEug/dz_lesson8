{
 "cells": [
  {
   "cell_type": "code",
   "execution_count": 6,
   "id": "56868039",
   "metadata": {},
   "outputs": [],
   "source": [
    "import random"
   ]
  },
  {
   "cell_type": "code",
   "execution_count": 7,
   "id": "8e9375d3",
   "metadata": {},
   "outputs": [],
   "source": [
    "def play_game():\n",
    "    player_balance = -1  # игрок платит 1 руб.\n",
    "    random_number = random.randint(0, 999)\n",
    "    \n",
    "    if random_number == 777:\n",
    "        player_balance += 200\n",
    "    elif random_number == 999:\n",
    "        player_balance += 100\n",
    "    elif random_number == 555:\n",
    "        player_balance += 50\n",
    "    elif random_number == 333:\n",
    "        player_balance += 15\n",
    "    elif random_number == 111:\n",
    "        player_balance += 10\n",
    "    elif random_number % 100 == 77:\n",
    "        player_balance += 5\n",
    "    elif random_number % 10 == 7:\n",
    "        player_balance += 3\n",
    "    elif random_number % 100 == 0:\n",
    "        player_balance += 2\n",
    "    elif random_number % 10 == 0:\n",
    "        player_balance += 1\n",
    "    \n",
    "    return player_balance"
   ]
  },
  {
   "cell_type": "code",
   "execution_count": 14,
   "id": "daa66a95",
   "metadata": {},
   "outputs": [
    {
     "name": "stdout",
     "output_type": "stream",
     "text": [
      "Игра не выгодна игроку. Средний проигрыш: 0.195764 руб.\n"
     ]
    }
   ],
   "source": [
    "games_count = 1000000\n",
    "total_balance = 0\n",
    "\n",
    "for _ in range(games_count):\n",
    "    total_balance += play_game()\n",
    "    \n",
    "average_balance = total_balance / games_count\n",
    "if average_balance >= 0:\n",
    "    print(f\"Игра выгодна игроку. Средний выигрыш: {average_balance} руб.\")\n",
    "else:\n",
    "    print(f\"Игра не выгодна игроку. Средний проигрыш: {-average_balance} руб.\")"
   ]
  },
  {
   "cell_type": "code",
   "execution_count": null,
   "id": "9dc5a66e",
   "metadata": {},
   "outputs": [],
   "source": []
  },
  {
   "cell_type": "code",
   "execution_count": null,
   "id": "a6b8e84a",
   "metadata": {},
   "outputs": [],
   "source": []
  }
 ],
 "metadata": {
  "kernelspec": {
   "display_name": "Python 3 (ipykernel)",
   "language": "python",
   "name": "python3"
  },
  "language_info": {
   "codemirror_mode": {
    "name": "ipython",
    "version": 3
   },
   "file_extension": ".py",
   "mimetype": "text/x-python",
   "name": "python",
   "nbconvert_exporter": "python",
   "pygments_lexer": "ipython3",
   "version": "3.11.5"
  }
 },
 "nbformat": 4,
 "nbformat_minor": 5
}
